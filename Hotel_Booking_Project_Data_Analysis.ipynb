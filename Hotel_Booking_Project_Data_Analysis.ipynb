{
 "cells": [
  {
   "cell_type": "markdown",
   "id": "c053a2ff",
   "metadata": {},
   "source": [
    "## Data Analysis Project Steps:\n",
    "1. Create a Problem Statement.\n",
    "2. Identify the data you want to analyze.\n",
    "3. Explore and Clean the data.\n",
    "4. Analyze the data to get useful insights.\n",
    "5. Present the data in terms of reports or dashboards using visualization."
   ]
  },
  {
   "cell_type": "markdown",
   "id": "3668602c",
   "metadata": {},
   "source": [
    "## Business Problem\n",
    "In the recent years, City Hotel and Resort Hotel have been high cancellation rates. Each hotel is now dealing with a number of issues as a result, including fewer revenues and less than ideal hotel room use. Consequently, lowering cancellation rates is both hotels primary goal in order to increase their efficiency in generating revenue, and for us to offer through business advice to address this problem."
   ]
  },
  {
   "cell_type": "markdown",
   "id": "255bb8b5",
   "metadata": {},
   "source": [
    "The analysis of the hotel booking cancellations as well as other factors that have no bearing on their business and yearly revenue generation are the main topic of this report."
   ]
  },
  {
   "cell_type": "markdown",
   "id": "3cded5f3",
   "metadata": {},
   "source": [
    "## Assumptions\n",
    "1. No unusual occurances between 2015 and 2017 will have a substaintial impact on the data used.\n",
    "2. The information is still current and can be used to analyze a hotel's possible plans in an efficient manner.\n",
    "3. There are no unanticipated negatives to the hotel employing any advised technique.\n",
    "4. The hotels are not currently using any of the suggested solutions.\n",
    "5. The biggest factor affecting the effectiveness of earning income is booking cancellations.\n",
    "6. Canellations result in vacant rooms for the booked length of time.\n",
    "7. Clients make hotel reservations the same year they make cancellations."
   ]
  },
  {
   "cell_type": "markdown",
   "id": "6f1fcb70",
   "metadata": {},
   "source": [
    "## Research Question\n",
    "1. What are the variables that affect hotel reservation cancellations?\n",
    "2. How can we make hotel reservation cancellations better?\n",
    "3. How will hotels be assisted in makeing pricing and promotional decisions?"
   ]
  },
  {
   "cell_type": "markdown",
   "id": "d3c6226c",
   "metadata": {},
   "source": [
    "## Hypothesis\n",
    "1. More cancellations occur when price are higher.\n",
    "2. When there is a longer waiting list, customer tend to cancel more frequently.\n",
    "3. The majority of clients are coming from offline travel agents to make their reservations."
   ]
  },
  {
   "cell_type": "markdown",
   "id": "7a4098c1",
   "metadata": {},
   "source": [
    "## Importing Library"
   ]
  },
  {
   "cell_type": "code",
   "execution_count": null,
   "id": "c0cef5da",
   "metadata": {},
   "outputs": [],
   "source": [
    "import numpy as np\n",
    "import pandas as pd\n",
    "import matplotlib.pyplot as plt\n",
    "import seaborn as sns\n",
    "import warnings\n",
    "warnings.filterwarnings('ignore')"
   ]
  },
  {
   "cell_type": "markdown",
   "id": "9a55bf01",
   "metadata": {},
   "source": [
    "## Loading the dataset"
   ]
  },
  {
   "cell_type": "code",
   "execution_count": null,
   "id": "7bfd2b91",
   "metadata": {},
   "outputs": [],
   "source": [
    "df = pd.read_csv(\"hotel_bookings 2.csv\")"
   ]
  },
  {
   "cell_type": "markdown",
   "id": "a19efdf5",
   "metadata": {},
   "source": [
    "## Exploratory Data Analysis and Data Cleaning"
   ]
  },
  {
   "cell_type": "code",
   "execution_count": null,
   "id": "f7267f28",
   "metadata": {},
   "outputs": [],
   "source": [
    "df.head()"
   ]
  },
  {
   "cell_type": "code",
   "execution_count": null,
   "id": "bda51e27",
   "metadata": {},
   "outputs": [],
   "source": [
    "df.tail()"
   ]
  },
  {
   "cell_type": "code",
   "execution_count": null,
   "id": "fb235ede",
   "metadata": {},
   "outputs": [],
   "source": [
    "df.shape"
   ]
  },
  {
   "cell_type": "code",
   "execution_count": null,
   "id": "8e857ead",
   "metadata": {},
   "outputs": [],
   "source": [
    "df.columns"
   ]
  },
  {
   "cell_type": "code",
   "execution_count": null,
   "id": "91e1f72b",
   "metadata": {},
   "outputs": [],
   "source": [
    "df['meal'].value_counts()"
   ]
  },
  {
   "cell_type": "code",
   "execution_count": null,
   "id": "1ce077b3",
   "metadata": {},
   "outputs": [],
   "source": [
    "df.info()"
   ]
  },
  {
   "cell_type": "code",
   "execution_count": null,
   "id": "a3d7d18b",
   "metadata": {},
   "outputs": [],
   "source": [
    "df['reservation_status_date'] = pd.to_datetime(df['reservation_status_date'])"
   ]
  },
  {
   "cell_type": "code",
   "execution_count": null,
   "id": "5b66e42b",
   "metadata": {},
   "outputs": [],
   "source": [
    "df.info()"
   ]
  },
  {
   "cell_type": "code",
   "execution_count": null,
   "id": "982068d0",
   "metadata": {},
   "outputs": [],
   "source": [
    "df.describe(include='object')"
   ]
  },
  {
   "cell_type": "code",
   "execution_count": null,
   "id": "921c2c2b",
   "metadata": {},
   "outputs": [],
   "source": [
    "obj_col = df.describe(include='object')"
   ]
  },
  {
   "cell_type": "code",
   "execution_count": null,
   "id": "c3e2109a",
   "metadata": {},
   "outputs": [],
   "source": [
    "for col in obj_col.columns:\n",
    "    print(col)\n",
    "    print(df[col].unique())\n",
    "    print(\"---------------------------------------------------------------------\")"
   ]
  },
  {
   "cell_type": "code",
   "execution_count": null,
   "id": "98993fb4",
   "metadata": {},
   "outputs": [],
   "source": [
    "df.isnull().sum()"
   ]
  },
  {
   "cell_type": "code",
   "execution_count": null,
   "id": "716bd3b1",
   "metadata": {},
   "outputs": [],
   "source": [
    "df.drop(['agent', 'company'], axis = 1, inplace = True)\n",
    "df.dropna(inplace=True)"
   ]
  },
  {
   "cell_type": "code",
   "execution_count": null,
   "id": "808aba54",
   "metadata": {},
   "outputs": [],
   "source": [
    "df.isnull().sum()"
   ]
  },
  {
   "cell_type": "code",
   "execution_count": null,
   "id": "c27626f9",
   "metadata": {},
   "outputs": [],
   "source": [
    "df.describe()"
   ]
  },
  {
   "cell_type": "code",
   "execution_count": null,
   "id": "184d3404",
   "metadata": {},
   "outputs": [],
   "source": [
    "df['adr'].plot(kind='box')"
   ]
  },
  {
   "cell_type": "code",
   "execution_count": null,
   "id": "4d0b5022",
   "metadata": {},
   "outputs": [],
   "source": [
    "df = df[df['adr']<5000]"
   ]
  },
  {
   "cell_type": "code",
   "execution_count": null,
   "id": "4fc91b90",
   "metadata": {},
   "outputs": [],
   "source": [
    "df.describe()"
   ]
  },
  {
   "cell_type": "markdown",
   "id": "de15b199",
   "metadata": {},
   "source": [
    "## Data Analysis and Visualizations"
   ]
  },
  {
   "cell_type": "code",
   "execution_count": null,
   "id": "16ef8d0e",
   "metadata": {},
   "outputs": [],
   "source": [
    "cancelled_percentage = df['is_canceled'].value_counts(normalize=True)\n",
    "cancelled_percentage"
   ]
  },
  {
   "cell_type": "code",
   "execution_count": null,
   "id": "3d0e4b2a",
   "metadata": {},
   "outputs": [],
   "source": [
    "print(cancelled_percentage)\n",
    "\n",
    "plt.figure(figsize= (5, 4))\n",
    "plt.title('Reservation Status Counts')\n",
    "plt.bar(['Not Canceled', 'Canceled'], df['is_canceled'].value_counts(normalize=False), edgecolor = 'k', width= 0.7)\n",
    "\n",
    "plt.show()"
   ]
  },
  {
   "cell_type": "code",
   "execution_count": null,
   "id": "8807acfc",
   "metadata": {},
   "outputs": [],
   "source": [
    "plt.figure(figsize= (8, 4))\n",
    "ax1 = sns.countplot(x = 'hotel', hue = 'is_canceled', data = df, palette= 'Blues')\n",
    "\n",
    "legend_labels,_ = ax1.get_legend_handles_labels()\n",
    "ax1.legend(bbox_to_anchor=(1,1))\n",
    "\n",
    "plt.title('Reservation status in different hotels', size = 15)\n",
    "plt.xlabel('Hotel')\n",
    "plt.ylabel('Number of Reservations')\n",
    "\n",
    "plt.show()"
   ]
  },
  {
   "cell_type": "code",
   "execution_count": null,
   "id": "95b990e2",
   "metadata": {},
   "outputs": [],
   "source": [
    "resort_hotel = df[df['hotel'] == 'Resort Hotel']\n",
    "resort_hotel['is_canceled'].value_counts(normalize = True)"
   ]
  },
  {
   "cell_type": "code",
   "execution_count": null,
   "id": "eca98af6",
   "metadata": {},
   "outputs": [],
   "source": [
    "city_hotel = df[df['hotel'] == 'City Hotel']\n",
    "city_hotel['is_canceled'].value_counts(normalize = True)"
   ]
  },
  {
   "cell_type": "code",
   "execution_count": null,
   "id": "fcdd491d",
   "metadata": {},
   "outputs": [],
   "source": [
    "resort_hotel = resort_hotel.groupby('reservation_status_date')[['adr']].mean()\n",
    "city_hotel = city_hotel.groupby('reservation_status_date')[['adr']].mean()"
   ]
  },
  {
   "cell_type": "code",
   "execution_count": null,
   "id": "753ed8f6",
   "metadata": {},
   "outputs": [],
   "source": [
    "plt.figure(figsize= (20,8))\n",
    "plt.title('Average Daily Rate in City and Resort Hotel', fontsize = 25)\n",
    "\n",
    "plt.plot(resort_hotel.index, resort_hotel['adr'], label = 'Resort Hotel')\n",
    "plt.plot(city_hotel.index, city_hotel['adr'], label = 'City Hotel')\n",
    "\n",
    "plt.legend(fontsize = 20)\n",
    "plt.show()"
   ]
  },
  {
   "cell_type": "code",
   "execution_count": null,
   "id": "dfbb22f5",
   "metadata": {},
   "outputs": [],
   "source": [
    "df['month'] = df['reservation_status_date'].dt.month\n",
    "plt.figure(figsize=(16,8))\n",
    "ax1 = sns.countplot(x = 'month', hue= 'is_canceled', data= df, palette= 'bright')\n",
    "legend_labels,_ = ax1. get_legend_handles_labels()\n",
    "ax1.legend(bbox_to_anchor = (1,1))\n",
    "plt.title('Reservation Status per Month', size = 20)\n",
    "plt.xlabel('Month')\n",
    "plt.ylabel('Number of Reservations')\n",
    "plt.legend(['not canceled', 'canceled'])\n",
    "plt.show()"
   ]
  },
  {
   "cell_type": "code",
   "execution_count": null,
   "id": "be324d28",
   "metadata": {},
   "outputs": [],
   "source": [
    "plt.figure(figsize = (15, 8))\n",
    "plt.title('ADR per Month', fontsize = 30)\n",
    "\n",
    "sns.barplot(x = 'month', y = 'adr', data = df[df['is_canceled'] == 1].groupby('month')[['adr']].sum().reset_index())\n",
    "#plt.legend(fontsize = 20)\n",
    "plt.show()"
   ]
  },
  {
   "cell_type": "code",
   "execution_count": null,
   "id": "4a2c037e",
   "metadata": {},
   "outputs": [],
   "source": [
    "canceled_data = df[df['is_canceled'] == 1]\n",
    "top_10_country = canceled_data['country'].value_counts()[:10]\n",
    "\n",
    "plt.figure(figsize= (8,8))\n",
    "plt.title('Top 10 Country with Reservations Canceled')\n",
    "plt.pie(top_10_country, autopct= '%.2f', labels= top_10_country.index)\n",
    "plt.show()"
   ]
  },
  {
   "cell_type": "code",
   "execution_count": null,
   "id": "4203c4a9",
   "metadata": {},
   "outputs": [],
   "source": [
    "df['market_segment'].value_counts()"
   ]
  },
  {
   "cell_type": "code",
   "execution_count": null,
   "id": "3b209050",
   "metadata": {},
   "outputs": [],
   "source": [
    "df['market_segment'].value_counts(normalize=True)"
   ]
  },
  {
   "cell_type": "code",
   "execution_count": null,
   "id": "f6b5794f",
   "metadata": {},
   "outputs": [],
   "source": [
    "canceled_data['market_segment'].value_counts(normalize=True)"
   ]
  },
  {
   "cell_type": "code",
   "execution_count": null,
   "id": "25481a90",
   "metadata": {},
   "outputs": [],
   "source": [
    "canceled_df_adr = canceled_data.groupby('reservation_status_date')[['adr']].mean()\n",
    "canceled_df_adr.reset_index(inplace = True)\n",
    "canceled_df_adr.sort_values('reservation_status_date', inplace = True)\n",
    "\n",
    "not_canceled_data = df[df['is_canceled'] == 0]\n",
    "not_canceled_df_adr = not_canceled_data.groupby('reservation_status_date')[['adr']].mean()\n",
    "not_canceled_df_adr.reset_index(inplace = True)\n",
    "not_canceled_df_adr.sort_values('reservation_status_date', inplace = True)\n",
    "\n",
    "plt.figure(figsize= (20,6))\n",
    "plt.title('Average Daily Rate')\n",
    "plt.plot(not_canceled_df_adr['reservation_status_date'], not_canceled_df_adr['adr'], label = 'not_canceled')\n",
    "plt.plot(canceled_df_adr['reservation_status_date'], canceled_df_adr['adr'], label = 'canceled')\n",
    "plt.legend()\n",
    "plt.show()"
   ]
  },
  {
   "cell_type": "code",
   "execution_count": null,
   "id": "42a18550",
   "metadata": {},
   "outputs": [],
   "source": [
    "canceled_df_adr = canceled_df_adr[(canceled_df_adr['reservation_status_date'] > '2016') & (canceled_df_adr['reservation_status_date'] < '2017-09')]\n",
    "\n",
    "not_canceled_df_adr = not_canceled_df_adr[(not_canceled_df_adr['reservation_status_date'] > '2016') & (not_canceled_df_adr['reservation_status_date'] < '2017-09')]"
   ]
  },
  {
   "cell_type": "code",
   "execution_count": null,
   "id": "817b2c6c",
   "metadata": {},
   "outputs": [],
   "source": [
    "plt.figure(figsize= (20,6))\n",
    "plt.title('Average Daily Rate', fontsize = 20)\n",
    "plt.plot(not_canceled_df_adr['reservation_status_date'], not_canceled_df_adr['adr'], label = 'not_canceled')\n",
    "plt.plot(canceled_df_adr['reservation_status_date'], canceled_df_adr['adr'], label = 'canceled')\n",
    "plt.legend()\n",
    "plt.show()"
   ]
  },
  {
   "cell_type": "code",
   "execution_count": null,
   "id": "b3af3e6f",
   "metadata": {},
   "outputs": [],
   "source": []
  }
 ],
 "metadata": {
  "kernelspec": {
   "display_name": "Python 3 (ipykernel)",
   "language": "python",
   "name": "python3"
  },
  "language_info": {
   "codemirror_mode": {
    "name": "ipython",
    "version": 3
   },
   "file_extension": ".py",
   "mimetype": "text/x-python",
   "name": "python",
   "nbconvert_exporter": "python",
   "pygments_lexer": "ipython3",
   "version": "3.11.2"
  }
 },
 "nbformat": 4,
 "nbformat_minor": 5
}
